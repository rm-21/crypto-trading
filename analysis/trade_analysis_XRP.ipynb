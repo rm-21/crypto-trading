{
 "cells": [
  {
   "cell_type": "markdown",
   "id": "ebc6e5c4-e79a-49db-a79d-f7d7d64361c7",
   "metadata": {
    "tags": []
   },
   "source": [
    "## Import Libraries"
   ]
  },
  {
   "cell_type": "code",
   "execution_count": 1,
   "id": "99008e26-fd69-436a-a10c-3a7ea7957f6c",
   "metadata": {
    "execution": {
     "iopub.execute_input": "2022-04-18T15:20:39.709832Z",
     "iopub.status.busy": "2022-04-18T15:20:39.709832Z",
     "iopub.status.idle": "2022-04-18T15:20:40.709226Z",
     "shell.execute_reply": "2022-04-18T15:20:40.709226Z",
     "shell.execute_reply.started": "2022-04-18T15:20:39.709832Z"
    },
    "tags": []
   },
   "outputs": [],
   "source": [
    "%load_ext autoreload\n",
    "%autoreload 2\n",
    "\n",
    "import pandas as pd\n",
    "import numpy as np\n",
    "import matplotlib.pyplot as plt\n",
    "import seaborn as sns\n",
    "import os\n",
    "import datetime as dt\n",
    "\n",
    "import sys\n",
    "sys.path.append(\"..\")\n",
    "from analysis.analysis_modules.load_data import LoadData\n",
    "from analysis.analysis_modules.data_checks import BasicDataChecks"
   ]
  },
  {
   "cell_type": "markdown",
   "id": "39aa5a79-5cad-48a6-8c8c-f4a9ab728a97",
   "metadata": {
    "jp-MarkdownHeadingCollapsed": true,
    "tags": []
   },
   "source": [
    "### Set Global Variables"
   ]
  },
  {
   "cell_type": "code",
   "execution_count": 2,
   "id": "e7242a27-9de2-4bcd-aa67-0771a6068a49",
   "metadata": {
    "execution": {
     "iopub.execute_input": "2022-04-18T15:20:40.711233Z",
     "iopub.status.busy": "2022-04-18T15:20:40.710245Z",
     "iopub.status.idle": "2022-04-18T15:20:40.757255Z",
     "shell.execute_reply": "2022-04-18T15:20:40.757255Z",
     "shell.execute_reply.started": "2022-04-18T15:20:40.711233Z"
    },
    "tags": []
   },
   "outputs": [],
   "source": [
    "PATH = \"D:\\\\Code\\\\Projects\\\\5Swans\\\\storage\\\\trade\"\n",
    "CURRENCY = \"AUD_SGD_XRP\"\n",
    "pair1, pair2, pair3 = \"AUD_SGD\", \"XRP_AUD\", \"XRP_SGD\""
   ]
  },
  {
   "cell_type": "markdown",
   "id": "09b37304-9435-4e19-b84b-c72a014f9136",
   "metadata": {
    "jp-MarkdownHeadingCollapsed": true,
    "tags": []
   },
   "source": [
    "### Load Data"
   ]
  },
  {
   "cell_type": "code",
   "execution_count": 3,
   "id": "5a2333b8-1436-4c17-8ec7-715e22f046e0",
   "metadata": {
    "execution": {
     "iopub.execute_input": "2022-04-18T15:20:40.759243Z",
     "iopub.status.busy": "2022-04-18T15:20:40.759243Z",
     "iopub.status.idle": "2022-04-18T15:20:40.821265Z",
     "shell.execute_reply": "2022-04-18T15:20:40.821265Z",
     "shell.execute_reply.started": "2022-04-18T15:20:40.759243Z"
    },
    "tags": []
   },
   "outputs": [],
   "source": [
    "# data_obj = LoadData(PATH, CURRENCY, pair1, pair2, pair3)\n",
    "# data = data_obj.price_data\n",
    "\n",
    "data_obj = BasicDataChecks(\"data_XRP.pkl\")\n",
    "data = data_obj.data"
   ]
  },
  {
   "cell_type": "markdown",
   "id": "3870be65-5504-41a0-a582-32da14078bac",
   "metadata": {
    "execution": {
     "iopub.execute_input": "2022-04-18T14:02:36.227780Z",
     "iopub.status.busy": "2022-04-18T14:02:36.227780Z",
     "iopub.status.idle": "2022-04-18T14:02:36.401375Z",
     "shell.execute_reply": "2022-04-18T14:02:36.400370Z",
     "shell.execute_reply.started": "2022-04-18T14:02:36.227780Z"
    },
    "tags": []
   },
   "source": [
    "### Basic Data Checks"
   ]
  },
  {
   "cell_type": "code",
   "execution_count": 4,
   "id": "56580e0f-18aa-4e31-8abc-fc2c6f5ffc33",
   "metadata": {
    "execution": {
     "iopub.execute_input": "2022-04-18T15:20:40.822265Z",
     "iopub.status.busy": "2022-04-18T15:20:40.822265Z",
     "iopub.status.idle": "2022-04-18T15:20:41.012312Z",
     "shell.execute_reply": "2022-04-18T15:20:41.012312Z",
     "shell.execute_reply.started": "2022-04-18T15:20:40.822265Z"
    }
   },
   "outputs": [
    {
     "name": "stdout",
     "output_type": "stream",
     "text": [
      "\u001b[1m\u001b[92m----------------------------------------------------------------------------------------------------\u001b[0m\n",
      "\u001b[1mData head: \u001b[0m\n",
      "                            AUD_SGD          XRP_AUD          XRP_SGD             trade          \n",
      "                            bestBid  bestAsk bestBid bestAsk  bestBid bestAsk    trade0    trade1\n",
      "2022-04-12 13:11:03.578656  1.01398   1.0141  0.9495  0.9505  0.95597  0.9611 -0.008229  0.001742\n",
      "2022-04-12 13:11:06.754743  1.01398   1.0141  0.9495  0.9505  0.95597  0.9611 -0.008229  0.001742\n",
      "2022-04-12 13:11:09.829060    1.014  1.01413  0.9495  0.9505  0.95597  0.9611 -0.008258  0.001762\n",
      "2022-04-12 13:11:13.065116    1.014  1.01413  0.9495  0.9505  0.95597  0.9611 -0.008258  0.001762\n",
      "2022-04-12 13:11:16.125246    1.014  1.01413  0.9495  0.9505  0.95597  0.9611 -0.008258  0.001762\n",
      "\u001b[1m\u001b[92m----------------------------------------------------------------------------------------------------\u001b[0m\n",
      "\u001b[1mData tail:  \u001b[0m\n",
      "                            AUD_SGD          XRP_AUD         XRP_SGD              trade          \n",
      "                            bestBid  bestAsk bestBid bestAsk bestBid  bestAsk    trade0    trade1\n",
      "2022-04-14 10:10:26.030555  1.00886  1.00899  0.9876  0.9907  0.9929   0.9984 -0.006709 -0.002053\n",
      "2022-04-14 10:10:29.102066  1.00886  1.00899  0.9874  0.9907  0.9929  0.99912 -0.006709 -0.002974\n",
      "2022-04-14 10:10:32.242644  1.00886    1.009  0.9875  0.9907  0.9929   0.9973 -0.006719 -0.001054\n",
      "2022-04-14 10:10:36.349566  1.00886  1.00899  0.9875  0.9907  0.9929   0.9973 -0.006709 -0.001054\n",
      "2022-04-14 10:10:39.484031  1.00886  1.00899  0.9875  0.9907  0.9929   0.9973 -0.006709 -0.001054\n",
      "\u001b[1m\u001b[92m----------------------------------------------------------------------------------------------------\u001b[0m\n",
      "\u001b[1mNull Values: \u001b[0m\n",
      "AUD_SGD  bestBid    0\n",
      "         bestAsk    0\n",
      "XRP_AUD  bestBid    0\n",
      "         bestAsk    0\n",
      "XRP_SGD  bestBid    0\n",
      "         bestAsk    0\n",
      "trade    trade0     0\n",
      "         trade1     0\n",
      "dtype: int64\n",
      "\u001b[1m\u001b[92m----------------------------------------------------------------------------------------------------\u001b[0m\n",
      "\u001b[1mDuplicate Values: \u001b[0m\n",
      "                            AUD_SGD          XRP_AUD          XRP_SGD             trade          \n",
      "                            bestBid  bestAsk bestBid bestAsk  bestBid bestAsk    trade0    trade1\n",
      "2022-04-12 13:11:03.578656  1.01398   1.0141  0.9495  0.9505  0.95597  0.9611 -0.008229  0.001742\n",
      "2022-04-12 13:11:06.754743  1.01398   1.0141  0.9495  0.9505  0.95597  0.9611 -0.008229  0.001742\n",
      "2022-04-12 13:11:09.829060    1.014  1.01413  0.9495  0.9505  0.95597  0.9611 -0.008258  0.001762\n",
      "2022-04-12 13:11:13.065116    1.014  1.01413  0.9495  0.9505  0.95597  0.9611 -0.008258  0.001762\n",
      "2022-04-12 13:11:16.125246    1.014  1.01413  0.9495  0.9505  0.95597  0.9611 -0.008258  0.001762\n",
      "...                             ...      ...     ...     ...      ...     ...       ...       ...\n",
      "2022-04-14 10:10:16.561137   1.0089    1.009  0.9875  0.9907   0.9929  0.9984 -0.006719 -0.002115\n",
      "2022-04-14 10:10:19.622880   1.0089    1.009  0.9875  0.9907   0.9929  0.9984 -0.006719 -0.002115\n",
      "2022-04-14 10:10:22.864971   1.0089    1.009  0.9875  0.9907   0.9929  0.9984 -0.006719 -0.002115\n",
      "2022-04-14 10:10:36.349566  1.00886  1.00899  0.9875  0.9907   0.9929  0.9973 -0.006709 -0.001054\n",
      "2022-04-14 10:10:39.484031  1.00886  1.00899  0.9875  0.9907   0.9929  0.9973 -0.006709 -0.001054\n",
      "\n",
      "[6883 rows x 8 columns]\n",
      "\u001b[1m\u001b[92m----------------------------------------------------------------------------------------------------\u001b[0m\n",
      "\u001b[1mData Info: \u001b[0m\n",
      "<class 'pandas.core.frame.DataFrame'>\n",
      "DatetimeIndex: 25176 entries, 2022-04-12 13:11:03.578656 to 2022-04-14 10:10:39.484031\n",
      "Data columns (total 8 columns):\n",
      " #   Column              Non-Null Count  Dtype \n",
      "---  ------              --------------  ----- \n",
      " 0   (AUD_SGD, bestBid)  25176 non-null  object\n",
      " 1   (AUD_SGD, bestAsk)  25176 non-null  object\n",
      " 2   (XRP_AUD, bestBid)  25176 non-null  object\n",
      " 3   (XRP_AUD, bestAsk)  25176 non-null  object\n",
      " 4   (XRP_SGD, bestBid)  25176 non-null  object\n",
      " 5   (XRP_SGD, bestAsk)  25176 non-null  object\n",
      " 6   (trade, trade0)     25176 non-null  object\n",
      " 7   (trade, trade1)     25176 non-null  object\n",
      "dtypes: object(8)\n",
      "memory usage: 1.7+ MB\n",
      "None\n",
      "\u001b[1m\u001b[92m----------------------------------------------------------------------------------------------------\u001b[0m\n",
      "\u001b[1mData Description: \u001b[0m\n",
      "            AUD_SGD                  XRP_AUD                  XRP_SGD                     trade              \n",
      "            bestBid      bestAsk     bestBid     bestAsk      bestBid     bestAsk        trade0        trade1\n",
      "count   25176.00000  25176.00000  25176.0000  25176.0000  25176.00000  25176.0000  25176.000000  25176.000000\n",
      "unique   1179.00000   1177.00000    424.0000    447.0000   1069.00000   1499.0000  17409.000000  15723.000000\n",
      "top         1.01407      1.01427      0.9505      0.9525      0.95811      0.9653     -0.006945     -0.001478\n",
      "freq      132.00000    147.00000    624.0000    527.0000   1997.00000    389.0000     18.000000     23.000000\n",
      "\u001b[1m\u001b[92m----------------------------------------------------------------------------------------------------\u001b[0m\n"
     ]
    }
   ],
   "source": [
    "data_obj.check"
   ]
  },
  {
   "cell_type": "markdown",
   "id": "851b1fa2-de5b-48cb-9cd1-2f0af3f1eaa8",
   "metadata": {},
   "source": [
    "---\n",
    "## How Long Does the Arbitrage Opportunity Stay?"
   ]
  },
  {
   "cell_type": "markdown",
   "id": "9d496cf4-bb72-4efe-a479-1b15ca5c998e",
   "metadata": {},
   "source": [
    "Clearly, there are repeated values. However, the timestamps are unique. It implies that an arbitrage opportunity exists for some period of time before vanishing. Let us analyse for how long does the arbitrage exist."
   ]
  },
  {
   "cell_type": "markdown",
   "id": "6cd3fccc-f785-40b4-a2fc-24e51a2d3af2",
   "metadata": {},
   "source": [
    "### Number of Times Arbitrage Opportunity Was Scanned"
   ]
  },
  {
   "cell_type": "code",
   "execution_count": 40,
   "id": "a4a0b3ee-50ee-4021-81bf-83508b0f05fd",
   "metadata": {
    "execution": {
     "iopub.execute_input": "2022-04-19T02:31:37.218034Z",
     "iopub.status.busy": "2022-04-19T02:31:37.218034Z",
     "iopub.status.idle": "2022-04-19T02:31:37.296058Z",
     "shell.execute_reply": "2022-04-19T02:31:37.296058Z",
     "shell.execute_reply.started": "2022-04-19T02:31:37.218034Z"
    },
    "tags": []
   },
   "outputs": [
    {
     "data": {
      "text/plain": [
       "trade0    0.000000\n",
       "trade1    0.377741\n",
       "dtype: float64"
      ]
     },
     "execution_count": 40,
     "metadata": {},
     "output_type": "execute_result"
    }
   ],
   "source": [
    "data[\"trade\"][data[\"trade\"] > 0].count()/data[\"trade\"].count()"
   ]
  },
  {
   "cell_type": "code",
   "execution_count": 24,
   "id": "f12fd9cd-8016-49a9-b79a-5fd98cfd1663",
   "metadata": {
    "execution": {
     "iopub.execute_input": "2022-04-19T02:23:21.604561Z",
     "iopub.status.busy": "2022-04-19T02:23:21.604561Z",
     "iopub.status.idle": "2022-04-19T02:23:21.792768Z",
     "shell.execute_reply": "2022-04-19T02:23:21.792768Z",
     "shell.execute_reply.started": "2022-04-19T02:23:21.604561Z"
    },
    "tags": []
   },
   "outputs": [
    {
     "data": {
      "text/plain": [
       "<AxesSubplot:ylabel='Frequency'>"
      ]
     },
     "execution_count": 24,
     "metadata": {},
     "output_type": "execute_result"
    },
    {
     "data": {
      "image/png": "[encoded data removed]",
      "text/plain": [
       "<Figure size 432x288 with 1 Axes>"
      ]
     },
     "metadata": {},
     "output_type": "display_data"
    }
   ],
   "source": [
    "data[\"trade\"][\"trade1\"].plot(kind='hist', bins=25)"
   ]
  },
  {
   "cell_type": "code",
   "execution_count": 17,
   "id": "4c3df575-424b-485b-bb0b-48e1b7a41456",
   "metadata": {
    "execution": {
     "iopub.execute_input": "2022-04-19T02:19:39.233703Z",
     "iopub.status.busy": "2022-04-19T02:19:39.233703Z",
     "iopub.status.idle": "2022-04-19T02:19:39.569720Z",
     "shell.execute_reply": "2022-04-19T02:19:39.569720Z",
     "shell.execute_reply.started": "2022-04-19T02:19:39.233703Z"
    },
    "tags": []
   },
   "outputs": [
    {
     "data": {
      "text/plain": [
       "<AxesSubplot:>"
      ]
     },
     "execution_count": 17,
     "metadata": {},
     "output_type": "execute_result"
    },
    {
     "data": {
      "image/png": "[encoded data removed]",
      "text/plain": [
       "<Figure size 432x288 with 1 Axes>"
      ]
     },
     "metadata": {},
     "output_type": "display_data"
    }
   ],
   "source": [
    "data[\"XRP_AUD\"].mean(axis=1).plot()"
   ]
  },
  {
   "cell_type": "code",
   "execution_count": 11,
   "id": "3cced2cd-4e75-4b07-b3eb-86f8912390b4",
   "metadata": {
    "execution": {
     "iopub.execute_input": "2022-04-19T02:17:29.219122Z",
     "iopub.status.busy": "2022-04-19T02:17:29.219122Z",
     "iopub.status.idle": "2022-04-19T02:17:29.315297Z",
     "shell.execute_reply": "2022-04-19T02:17:29.315297Z",
     "shell.execute_reply.started": "2022-04-19T02:17:29.219122Z"
    },
    "tags": []
   },
   "outputs": [
    {
     "data": {
      "text/plain": [
       "2022-04-12 13:11:03.578656    0.001742\n",
       "2022-04-12 13:11:06.754743    0.001742\n",
       "2022-04-12 13:11:09.829060    0.001762\n",
       "2022-04-12 13:11:13.065116    0.001762\n",
       "2022-04-12 13:11:16.125246    0.001762\n",
       "2022-04-12 13:11:28.710682      0.0019\n",
       "2022-04-12 13:11:31.778883      0.0019\n",
       "2022-04-12 13:11:34.846607    0.001801\n",
       "2022-04-12 13:11:37.939428    0.001801\n",
       "2022-04-12 13:11:40.998869    0.001811\n",
       "2022-04-12 13:11:44.082462    0.001811\n",
       "2022-04-12 13:11:47.211922    0.001811\n",
       "2022-04-12 13:11:56.474859    0.001692\n",
       "2022-04-12 13:11:59.628255    0.001692\n",
       "2022-04-12 13:12:02.735580    0.001682\n",
       "2022-04-12 13:12:05.835453    0.001712\n",
       "2022-04-12 13:12:09.064202    0.001712\n",
       "2022-04-12 13:12:12.146404    0.001712\n",
       "2022-04-12 13:12:15.196955    0.001712\n",
       "2022-04-12 13:12:18.244169    0.001702\n",
       "Name: trade1, dtype: object"
      ]
     },
     "execution_count": 11,
     "metadata": {},
     "output_type": "execute_result"
    }
   ],
   "source": [
    "y = data[\"trade\"][\"trade1\"][data[\"trade\"][\"trade1\"] > 0]\n",
    "y[y.duplicated(keep=False)][:20]"
   ]
  },
  {
   "cell_type": "code",
   "execution_count": 6,
   "id": "5d1225d9-3857-49fa-8ba5-6cc52f34ffa3",
   "metadata": {
    "execution": {
     "iopub.execute_input": "2022-04-18T15:20:41.111335Z",
     "iopub.status.busy": "2022-04-18T15:20:41.110339Z",
     "iopub.status.idle": "2022-04-18T15:20:41.187836Z",
     "shell.execute_reply": "2022-04-18T15:20:41.187836Z",
     "shell.execute_reply.started": "2022-04-18T15:20:41.111335Z"
    },
    "tags": []
   },
   "outputs": [
    {
     "data": {
      "text/plain": [
       "2022-04-12 13:11:03.578656      1.001742\n",
       "2022-04-12 13:11:09.829060      1.003506\n",
       "2022-04-12 13:11:19.433671      1.005343\n",
       "2022-04-12 13:11:22.513109      1.007273\n",
       "2022-04-12 13:11:25.569281      1.009167\n",
       "                                 ...    \n",
       "2022-04-14 09:41:57.072381    807.888178\n",
       "2022-04-14 09:42:03.360056    808.611083\n",
       "2022-04-14 09:42:06.666919    809.237237\n",
       "2022-04-14 09:43:32.564562    809.823721\n",
       "2022-04-14 09:43:39.285422    810.442777\n",
       "Name: trade1, Length: 6336, dtype: object"
      ]
     },
     "execution_count": 6,
     "metadata": {},
     "output_type": "execute_result"
    }
   ],
   "source": [
    "x = data[\"trade\"][\"trade1\"][data[\"trade\"][\"trade1\"] > 0]\n",
    "(1 + x[~x.duplicated(keep='first')]).cumprod()"
   ]
  },
  {
   "cell_type": "code",
   "execution_count": null,
   "id": "75b22b17-cc89-427d-af1e-4276882cb414",
   "metadata": {},
   "outputs": [],
   "source": []
  }
 ],
 "metadata": {
  "kernelspec": {
   "display_name": "Python 3 (ipykernel)",
   "language": "python",
   "name": "python3"
  },
  "language_info": {
   "codemirror_mode": {
    "name": "ipython",
    "version": 3
   },
   "file_extension": ".py",
   "mimetype": "text/x-python",
   "name": "python",
   "nbconvert_exporter": "python",
   "pygments_lexer": "ipython3",
   "version": "3.9.5"
  }
 },
 "nbformat": 4,
 "nbformat_minor": 5
}
