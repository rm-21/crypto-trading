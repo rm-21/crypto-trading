{
 "cells": [
  {
   "cell_type": "markdown",
   "id": "ebc6e5c4-e79a-49db-a79d-f7d7d64361c7",
   "metadata": {},
   "source": [
    "## Import Libraries"
   ]
  },
  {
   "cell_type": "code",
   "execution_count": 1,
   "id": "99008e26-fd69-436a-a10c-3a7ea7957f6c",
   "metadata": {
    "execution": {
     "iopub.execute_input": "2022-04-18T14:07:03.912139Z",
     "iopub.status.busy": "2022-04-18T14:07:03.912139Z",
     "iopub.status.idle": "2022-04-18T14:07:04.855840Z",
     "shell.execute_reply": "2022-04-18T14:07:04.854822Z",
     "shell.execute_reply.started": "2022-04-18T14:07:03.912139Z"
    },
    "tags": []
   },
   "outputs": [],
   "source": [
    "%load_ext autoreload\n",
    "%autoreload 2\n",
    "\n",
    "import pandas as pd\n",
    "import numpy as np\n",
    "import matplotlib.pyplot as plt\n",
    "import seaborn as sns\n",
    "import os\n",
    "import datetime as dt\n",
    "\n",
    "import sys\n",
    "sys.path.append(\"..\")\n",
    "from analysis.analysis_modules.load_data import LoadData\n",
    "from analysis.analysis_modules.data_checks import BasicDataChecks"
   ]
  },
  {
   "cell_type": "markdown",
   "id": "39aa5a79-5cad-48a6-8c8c-f4a9ab728a97",
   "metadata": {},
   "source": [
    "### Set Global Variables"
   ]
  },
  {
   "cell_type": "code",
   "execution_count": 2,
   "id": "e7242a27-9de2-4bcd-aa67-0771a6068a49",
   "metadata": {
    "execution": {
     "iopub.execute_input": "2022-04-18T14:07:04.856835Z",
     "iopub.status.busy": "2022-04-18T14:07:04.856835Z",
     "iopub.status.idle": "2022-04-18T14:07:04.902841Z",
     "shell.execute_reply": "2022-04-18T14:07:04.902841Z",
     "shell.execute_reply.started": "2022-04-18T14:07:04.856835Z"
    },
    "tags": []
   },
   "outputs": [],
   "source": [
    "PATH = \"D:\\\\Code\\\\Projects\\\\5Swans\\\\storage\\\\trade\"\n",
    "CURRENCY = \"AUD_SGD_XRP\"\n",
    "pair1, pair2, pair3 = \"AUD_SGD\", \"XRP_AUD\", \"XRP_SGD\""
   ]
  },
  {
   "cell_type": "markdown",
   "id": "09b37304-9435-4e19-b84b-c72a014f9136",
   "metadata": {},
   "source": [
    "### Load Data"
   ]
  },
  {
   "cell_type": "code",
   "execution_count": 3,
   "id": "5a2333b8-1436-4c17-8ec7-715e22f046e0",
   "metadata": {
    "execution": {
     "iopub.execute_input": "2022-04-18T14:07:04.905835Z",
     "iopub.status.busy": "2022-04-18T14:07:04.904833Z",
     "iopub.status.idle": "2022-04-18T14:07:04.979925Z",
     "shell.execute_reply": "2022-04-18T14:07:04.979925Z",
     "shell.execute_reply.started": "2022-04-18T14:07:04.905835Z"
    },
    "tags": []
   },
   "outputs": [],
   "source": [
    "# data_obj = LoadData(PATH, CURRENCY, pair1, pair2, pair3)\n",
    "# data = data_obj.price_data\n",
    "\n",
    "data_obj = BasicDataChecks(\"data.pkl\")\n",
    "data = data_obj.data"
   ]
  },
  {
   "cell_type": "markdown",
   "id": "3870be65-5504-41a0-a582-32da14078bac",
   "metadata": {
    "execution": {
     "iopub.execute_input": "2022-04-18T14:02:36.227780Z",
     "iopub.status.busy": "2022-04-18T14:02:36.227780Z",
     "iopub.status.idle": "2022-04-18T14:02:36.401375Z",
     "shell.execute_reply": "2022-04-18T14:02:36.400370Z",
     "shell.execute_reply.started": "2022-04-18T14:02:36.227780Z"
    },
    "tags": []
   },
   "source": [
    "### Basic Data Checks"
   ]
  },
  {
   "cell_type": "code",
   "execution_count": 4,
   "id": "56580e0f-18aa-4e31-8abc-fc2c6f5ffc33",
   "metadata": {
    "execution": {
     "iopub.execute_input": "2022-04-18T14:07:04.980925Z",
     "iopub.status.busy": "2022-04-18T14:07:04.980925Z",
     "iopub.status.idle": "2022-04-18T14:07:05.170293Z",
     "shell.execute_reply": "2022-04-18T14:07:05.170293Z",
     "shell.execute_reply.started": "2022-04-18T14:07:04.980925Z"
    }
   },
   "outputs": [
    {
     "name": "stdout",
     "output_type": "stream",
     "text": [
      "\u001b[1m\u001b[92m----------------------------------------------------------------------------------------------------\u001b[0m\n",
      "\u001b[1mData head: \u001b[0m\n",
      "                            AUD_SGD          XRP_AUD          XRP_SGD             trade          \n",
      "                            bestBid  bestAsk bestBid bestAsk  bestBid bestAsk    trade0    trade1\n",
      "2022-04-12 13:11:03.578656  1.01398   1.0141  0.9495  0.9505  0.95597  0.9611 -0.008229  0.001742\n",
      "2022-04-12 13:11:06.754743  1.01398   1.0141  0.9495  0.9505  0.95597  0.9611 -0.008229  0.001742\n",
      "2022-04-12 13:11:09.829060    1.014  1.01413  0.9495  0.9505  0.95597  0.9611 -0.008258  0.001762\n",
      "2022-04-12 13:11:13.065116    1.014  1.01413  0.9495  0.9505  0.95597  0.9611 -0.008258  0.001762\n",
      "2022-04-12 13:11:16.125246    1.014  1.01413  0.9495  0.9505  0.95597  0.9611 -0.008258  0.001762\n",
      "\u001b[1m\u001b[92m----------------------------------------------------------------------------------------------------\u001b[0m\n",
      "\u001b[1mData tail:  \u001b[0m\n",
      "                            AUD_SGD          XRP_AUD         XRP_SGD              trade          \n",
      "                            bestBid  bestAsk bestBid bestAsk bestBid  bestAsk    trade0    trade1\n",
      "2022-04-14 10:10:26.030555  1.00886  1.00899  0.9876  0.9907  0.9929   0.9984 -0.006709 -0.002053\n",
      "2022-04-14 10:10:29.102066  1.00886  1.00899  0.9874  0.9907  0.9929  0.99912 -0.006709 -0.002974\n",
      "2022-04-14 10:10:32.242644  1.00886    1.009  0.9875  0.9907  0.9929   0.9973 -0.006719 -0.001054\n",
      "2022-04-14 10:10:36.349566  1.00886  1.00899  0.9875  0.9907  0.9929   0.9973 -0.006709 -0.001054\n",
      "2022-04-14 10:10:39.484031  1.00886  1.00899  0.9875  0.9907  0.9929   0.9973 -0.006709 -0.001054\n",
      "\u001b[1m\u001b[92m----------------------------------------------------------------------------------------------------\u001b[0m\n",
      "\u001b[1mNull Values: \u001b[0m\n",
      "AUD_SGD  bestBid    0\n",
      "         bestAsk    0\n",
      "XRP_AUD  bestBid    0\n",
      "         bestAsk    0\n",
      "XRP_SGD  bestBid    0\n",
      "         bestAsk    0\n",
      "trade    trade0     0\n",
      "         trade1     0\n",
      "dtype: int64\n",
      "\u001b[1m\u001b[92m----------------------------------------------------------------------------------------------------\u001b[0m\n",
      "\u001b[1mDuplicate Values: \u001b[0m\n",
      "                            AUD_SGD          XRP_AUD          XRP_SGD             trade          \n",
      "                            bestBid  bestAsk bestBid bestAsk  bestBid bestAsk    trade0    trade1\n",
      "2022-04-12 13:11:03.578656  1.01398   1.0141  0.9495  0.9505  0.95597  0.9611 -0.008229  0.001742\n",
      "2022-04-12 13:11:06.754743  1.01398   1.0141  0.9495  0.9505  0.95597  0.9611 -0.008229  0.001742\n",
      "2022-04-12 13:11:09.829060    1.014  1.01413  0.9495  0.9505  0.95597  0.9611 -0.008258  0.001762\n",
      "2022-04-12 13:11:13.065116    1.014  1.01413  0.9495  0.9505  0.95597  0.9611 -0.008258  0.001762\n",
      "2022-04-12 13:11:16.125246    1.014  1.01413  0.9495  0.9505  0.95597  0.9611 -0.008258  0.001762\n",
      "...                             ...      ...     ...     ...      ...     ...       ...       ...\n",
      "2022-04-14 10:10:16.561137   1.0089    1.009  0.9875  0.9907   0.9929  0.9984 -0.006719 -0.002115\n",
      "2022-04-14 10:10:19.622880   1.0089    1.009  0.9875  0.9907   0.9929  0.9984 -0.006719 -0.002115\n",
      "2022-04-14 10:10:22.864971   1.0089    1.009  0.9875  0.9907   0.9929  0.9984 -0.006719 -0.002115\n",
      "2022-04-14 10:10:36.349566  1.00886  1.00899  0.9875  0.9907   0.9929  0.9973 -0.006709 -0.001054\n",
      "2022-04-14 10:10:39.484031  1.00886  1.00899  0.9875  0.9907   0.9929  0.9973 -0.006709 -0.001054\n",
      "\n",
      "[6883 rows x 8 columns]\n",
      "\u001b[1m\u001b[92m----------------------------------------------------------------------------------------------------\u001b[0m\n",
      "\u001b[1mData Info: \u001b[0m\n",
      "<class 'pandas.core.frame.DataFrame'>\n",
      "DatetimeIndex: 25176 entries, 2022-04-12 13:11:03.578656 to 2022-04-14 10:10:39.484031\n",
      "Data columns (total 8 columns):\n",
      " #   Column              Non-Null Count  Dtype \n",
      "---  ------              --------------  ----- \n",
      " 0   (AUD_SGD, bestBid)  25176 non-null  object\n",
      " 1   (AUD_SGD, bestAsk)  25176 non-null  object\n",
      " 2   (XRP_AUD, bestBid)  25176 non-null  object\n",
      " 3   (XRP_AUD, bestAsk)  25176 non-null  object\n",
      " 4   (XRP_SGD, bestBid)  25176 non-null  object\n",
      " 5   (XRP_SGD, bestAsk)  25176 non-null  object\n",
      " 6   (trade, trade0)     25176 non-null  object\n",
      " 7   (trade, trade1)     25176 non-null  object\n",
      "dtypes: object(8)\n",
      "memory usage: 1.7+ MB\n",
      "None\n",
      "\u001b[1m\u001b[92m----------------------------------------------------------------------------------------------------\u001b[0m\n",
      "\u001b[1mData Description: \u001b[0m\n",
      "            AUD_SGD                  XRP_AUD                  XRP_SGD                     trade              \n",
      "            bestBid      bestAsk     bestBid     bestAsk      bestBid     bestAsk        trade0        trade1\n",
      "count   25176.00000  25176.00000  25176.0000  25176.0000  25176.00000  25176.0000  25176.000000  25176.000000\n",
      "unique   1179.00000   1177.00000    424.0000    447.0000   1069.00000   1499.0000  17409.000000  15723.000000\n",
      "top         1.01407      1.01427      0.9505      0.9525      0.95811      0.9653     -0.006945     -0.001478\n",
      "freq      132.00000    147.00000    624.0000    527.0000   1997.00000    389.0000     18.000000     23.000000\n",
      "\u001b[1m\u001b[92m----------------------------------------------------------------------------------------------------\u001b[0m\n"
     ]
    }
   ],
   "source": [
    "data_obj.check"
   ]
  },
  {
   "cell_type": "code",
   "execution_count": null,
   "id": "c4bb702f-c868-43f8-9dfc-bab33ec3a69a",
   "metadata": {},
   "outputs": [],
   "source": []
  },
  {
   "cell_type": "code",
   "execution_count": null,
   "id": "bb7b917d-6a9e-41f0-b90c-c4b0f6f28584",
   "metadata": {},
   "outputs": [],
   "source": []
  }
 ],
 "metadata": {
  "kernelspec": {
   "display_name": "Python 3 (ipykernel)",
   "language": "python",
   "name": "python3"
  },
  "language_info": {
   "codemirror_mode": {
    "name": "ipython",
    "version": 3
   },
   "file_extension": ".py",
   "mimetype": "text/x-python",
   "name": "python",
   "nbconvert_exporter": "python",
   "pygments_lexer": "ipython3",
   "version": "3.9.5"
  }
 },
 "nbformat": 4,
 "nbformat_minor": 5
}
