{
 "cells": [
  {
   "cell_type": "code",
   "execution_count": null,
   "id": "e7242a27-9de2-4bcd-aa67-0771a6068a49",
   "metadata": {},
   "outputs": [],
   "source": [
    "PATH = \"D:\\Code\\Projects\\5Swans\\storage\\trade\""
   ]
  }
 ],
 "metadata": {
  "kernelspec": {
   "display_name": "Python 3 (ipykernel)",
   "language": "python",
   "name": "python3"
  },
  "language_info": {
   "codemirror_mode": {
    "name": "ipython",
    "version": 3
   },
   "file_extension": ".py",
   "mimetype": "text/x-python",
   "name": "python",
   "nbconvert_exporter": "python",
   "pygments_lexer": "ipython3",
   "version": "3.9.5"
  }
 },
 "nbformat": 4,
 "nbformat_minor": 5
}
