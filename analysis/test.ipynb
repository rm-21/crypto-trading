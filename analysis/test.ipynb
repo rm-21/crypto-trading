{
 "cells": [
  {
   "cell_type": "code",
   "execution_count": 1,
   "id": "e7242a27-9de2-4bcd-aa67-0771a6068a49",
   "metadata": {
    "execution": {
     "iopub.execute_input": "2022-04-18T02:45:19.723888Z",
     "iopub.status.busy": "2022-04-18T02:45:19.722882Z",
     "iopub.status.idle": "2022-04-18T02:45:19.739886Z",
     "shell.execute_reply": "2022-04-18T02:45:19.738890Z",
     "shell.execute_reply.started": "2022-04-18T02:45:19.723888Z"
    }
   },
   "outputs": [],
   "source": [
    "PATH = \"D:\\\\Code\\\\Projects\\\\5Swans\\\\storage\\\\trade\""
   ]
  },
  {
   "cell_type": "code",
   "execution_count": null,
   "id": "0098d239-18ad-4701-b824-3f9cc5c4cbfa",
   "metadata": {},
   "outputs": [],
   "source": []
  }
 ],
 "metadata": {
  "kernelspec": {
   "display_name": "Python 3 (ipykernel)",
   "language": "python",
   "name": "python3"
  },
  "language_info": {
   "codemirror_mode": {
    "name": "ipython",
    "version": 3
   },
   "file_extension": ".py",
   "mimetype": "text/x-python",
   "name": "python",
   "nbconvert_exporter": "python",
   "pygments_lexer": "ipython3",
   "version": "3.9.5"
  }
 },
 "nbformat": 4,
 "nbformat_minor": 5
}
